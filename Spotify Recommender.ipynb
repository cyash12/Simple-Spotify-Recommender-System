{
 "cells": [
  {
   "cell_type": "code",
   "execution_count": null,
   "id": "9613aec7",
   "metadata": {},
   "outputs": [],
   "source": [
    "import numpy as np\n",
    "import pandas as pd\n",
    "import spotipy\n",
    "import os"
   ]
  },
  {
   "cell_type": "code",
   "execution_count": null,
   "id": "0b4fd496",
   "metadata": {},
   "outputs": [],
   "source": [
    "spotify_data = pd.read_csv('.\\data.csv.zip')\n",
    "genre_data = pd.read_csv('.\\data_by_genres.csv')\n",
    "data_by_year = pd.read_csv('.\\data_by_year.csv')"
   ]
  },
  {
   "cell_type": "code",
   "execution_count": null,
   "id": "607d2f25",
   "metadata": {},
   "outputs": [],
   "source": [
    "test_data = pd.read_csv('.\\data.csv.zip')\n",
    "test_data.head"
   ]
  },
  {
   "cell_type": "code",
   "execution_count": null,
   "id": "5a1b08ab",
   "metadata": {},
   "outputs": [],
   "source": [
    "spotify_data.info()"
   ]
  },
  {
   "cell_type": "code",
   "execution_count": null,
   "id": "cb4dc5d4",
   "metadata": {},
   "outputs": [],
   "source": [
    "genre_data.info()"
   ]
  },
  {
   "cell_type": "code",
   "execution_count": null,
   "id": "2f92d66a",
   "metadata": {},
   "outputs": [],
   "source": [
    "data_by_year.info()"
   ]
  },
  {
   "cell_type": "code",
   "execution_count": null,
   "id": "bd2c8d72",
   "metadata": {},
   "outputs": [],
   "source": [
    "import plotly.express as px \n",
    "sound_features = ['acousticness', 'danceability', 'energy', 'instrumentalness', 'liveness', 'valence']\n",
    "fig = px.line(data_by_year, x='year', y=sound_features)\n",
    "fig.show()"
   ]
  },
  {
   "cell_type": "code",
   "execution_count": null,
   "id": "4c23dc9c",
   "metadata": {},
   "outputs": [],
   "source": [
    "fig = px.line(data_by_year, x='year', y='tempo')\n",
    "fig.show()"
   ]
  },
  {
   "cell_type": "code",
   "execution_count": null,
   "id": "6dd1e7be",
   "metadata": {},
   "outputs": [],
   "source": [
    "top10_genres = genre_data.nlargest(10, 'popularity')\n",
    "genre_features = ['valence', 'energy', 'danceability', 'acousticness']\n",
    "fig = px.bar(top10_genres, x='genres', y= genre_features, barmode='group')\n",
    "fig.show()"
   ]
  },
  {
   "cell_type": "code",
   "execution_count": null,
   "id": "08f3ca5e",
   "metadata": {},
   "outputs": [],
   "source": [
    "from sklearn.cluster import KMeans\n",
    "from sklearn.preprocessing import StandardScaler\n",
    "from sklearn.pipeline import Pipeline\n",
    "cluster_pipeline = Pipeline([('scaler', StandardScaler()), ('kmeans', KMeans(n_clusters=10, n_jobs=-1))])\n",
    "X = genre_data.select_dtypes(np.number)\n",
    "cluster_pipeline.fit(X)\n",
    "genre_data['cluster'] = cluster_pipeline.predict(X)"
   ]
  },
  {
   "cell_type": "code",
   "execution_count": null,
   "id": "f7dfc7b6",
   "metadata": {},
   "outputs": [],
   "source": [
    "\n",
    "from sklearn.manifold import TSNE\n",
    "tsne_pipeline = Pipeline([('scaler', StandardScaler()), ('tsne', TSNE(n_components=2, verbose=2))])\n",
    "genre_embedding = tsne_pipeline.fit_transform(X)\n",
    "projection = pd.DataFrame(columns=['x', 'y'], data=genre_embedding)\n",
    "projection['genres'] = genre_data['genres']\n",
    "projection['cluster'] = genre_data['cluster']\n"
   ]
  },
  {
   "cell_type": "code",
   "execution_count": null,
   "id": "e2510584",
   "metadata": {},
   "outputs": [],
   "source": []
  },
  {
   "cell_type": "code",
   "execution_count": null,
   "id": "4fdec2bb",
   "metadata": {},
   "outputs": [],
   "source": [
    "import plotly.express as px\n",
    "fig = px.scatter(projection, x='x', y='y', color='cluster', hover_data=['x', 'y', 'genres'])\n",
    "fig.show()"
   ]
  },
  {
   "cell_type": "code",
   "execution_count": null,
   "id": "36496a71",
   "metadata": {},
   "outputs": [],
   "source": [
    "song_cluster_pipeline = Pipeline([('scaler', StandardScaler()), \n",
    "                                  ('kmeans', KMeans(n_clusters=20, n_jobs=-1))])\n",
    "X = spotify_data.select_dtypes(np.number)\n",
    "number_cols = list(X.columns)\n",
    "song_cluster_pipeline.fit(X)\n",
    "song_cluster_labels = song_cluster_pipeline.predict(X)\n",
    "spotify_data['cluster_label'] = song_cluster_labels"
   ]
  },
  {
   "cell_type": "code",
   "execution_count": null,
   "id": "8aed9d92",
   "metadata": {},
   "outputs": [],
   "source": [
    "from sklearn.decomposition import PCA\n",
    "pca_pipeline = Pipeline([('scaler', StandardScaler()), ('PCA', PCA(n_components=2))])\n",
    "song_embedding = pca_pipeline.fit_transform(X)\n",
    "projection = pd.DataFrame(columns=['x', 'y'], data=song_embedding)\n",
    "projection['title'] = spotify_data['name']\n",
    "projection['cluster'] = spotify_data['cluster_label']"
   ]
  },
  {
   "cell_type": "code",
   "execution_count": null,
   "id": "47f6d9b6",
   "metadata": {},
   "outputs": [],
   "source": [
    "import plotly.express as px\n",
    "fig = px.scatter(projection, x='x', y='y', color='cluster', hover_data=['x', 'y', 'title'])\n",
    "fig.show()"
   ]
  },
  {
   "cell_type": "code",
   "execution_count": null,
   "id": "7098318a",
   "metadata": {},
   "outputs": [],
   "source": [
    "from spotipy.oauth2 import SpotifyClientCredentials\n",
    "from collections import defaultdict\n",
    "\n",
    "sp = spotipy.Spotify(auth_manager=SpotifyClientCredentials(client_id=os.environ[\"SPOTIFY_CLIENT_ID\"],\n",
    "                                                           client_secret=os.environ[\"SPOTIFY_CLIENT_SECRET\"]))\n",
    "\n",
    "\n",
    "def find_song(name, year):\n",
    "  \n",
    "    \"\"\"\n",
    "    This function returns a dataframe with data for a song given the name and release year.\n",
    "    The function uses Spotipy to fetch audio features and metadata for the specified song.\n",
    "    \n",
    "    \"\"\"\n",
    "    \n",
    "    song_data = defaultdict()\n",
    "    results = sp.search(q= 'track: {} year: {}'.format(name,\n",
    "                                                       year), limit=1)\n",
    "    if results['tracks']['items'] == []:\n",
    "        return None\n",
    "    \n",
    "    results = results['tracks']['items'][0]\n",
    "\n",
    "    track_id = results['id']\n",
    "    audio_features = sp.audio_features(track_id)[0]\n",
    "    \n",
    "    song_data['name'] = [name]\n",
    "    song_data['year'] = [year]\n",
    "    song_data['explicit'] = [int(results['explicit'])]\n",
    "    song_data['duration_ms'] = [results['duration_ms']]\n",
    "    song_data['popularity'] = [results['popularity']]\n",
    "    \n",
    "    for key, value in audio_features.items():\n",
    "        song_data[key] = value\n",
    "    \n",
    "    return pd.DataFrame(song_data)"
   ]
  },
  {
   "cell_type": "code",
   "execution_count": null,
   "id": "bbc62b73",
   "metadata": {},
   "outputs": [],
   "source": [
    "from collections import defaultdict\n",
    "from scipy.spatial.distance import cdist\n",
    "import difflib\n",
    "\n",
    "number_cols = ['valence', 'year', 'acousticness', 'danceability', 'duration_ms', 'energy', 'explicit',\n",
    " 'instrumentalness', 'key', 'liveness', 'loudness', 'mode', 'popularity', 'speechiness', 'tempo']\n",
    "\n",
    "def get_song_data(song, spotify_data):\n",
    "    \n",
    "    \"\"\"\n",
    "    Gets the song data for a specific song. The song argument takes the form of a dictionary with \n",
    "    key-value pairs for the name and release year of the song.\n",
    "    \"\"\"\n",
    "    \n",
    "    try:\n",
    "        song_data = spotify_data[(spotify_data['name'] == song['name']) \n",
    "                                & (spotify_data['year'] == song['year'])].iloc[0]\n",
    "        return song_data\n",
    "    \n",
    "    except IndexError:\n",
    "        return find_song(song['name'], song['year'])\n",
    "        \n",
    "\n",
    "def get_mean_vector(song_list, spotify_data):\n",
    "  \n",
    "    \"\"\"\n",
    "    Gets the mean vector for a list of songs.\n",
    "    \"\"\"\n",
    "    \n",
    "    song_vectors = []\n",
    "    \n",
    "    for song in song_list:\n",
    "        song_data = get_song_data(song, spotify_data)\n",
    "        if song_data is None:\n",
    "            print('Warning: {} does not exist in Spotify or in database'.format(song['name']))\n",
    "            continue\n",
    "        song_vector = song_data[number_cols].values\n",
    "        song_vectors.append(song_vector)  \n",
    "    \n",
    "    song_matrix = np.array(list(song_vectors))\n",
    "    return np.mean(song_matrix, axis=0)\n",
    "\n",
    "def flatten_dict_list(dict_list):\n",
    "   \n",
    "    \"\"\"\n",
    "    Utility function for flattening a list of dictionaries.\n",
    "    \"\"\"\n",
    "    \n",
    "    flattened_dict = defaultdict()\n",
    "    for key in dict_list[0].keys():\n",
    "        flattened_dict[key] = []\n",
    "    \n",
    "    for dictionary in dict_list:\n",
    "        for key, value in dictionary.items():\n",
    "            flattened_dict[key].append(value)\n",
    "            \n",
    "    return flattened_dict\n",
    "        \n",
    "\n",
    "def recommend_songs(song_list, spotify_data, n_songs=10):\n",
    "  \n",
    "    \"\"\"\n",
    "    Recommends songs based on a list of previous songs that a user has listened to.\n",
    "    \"\"\"\n",
    "    \n",
    "    metadata_cols = ['name', 'year', 'artists']\n",
    "    song_dict = flatten_dict_list(song_list)\n",
    "    \n",
    "    song_center = get_mean_vector(song_list, spotify_data)\n",
    "    scaler = song_cluster_pipeline.steps[0][1]\n",
    "    scaled_data = scaler.transform(spotify_data[number_cols])\n",
    "    scaled_song_center = scaler.transform(song_center.reshape(1, -1))\n",
    "    distances = cdist(scaled_song_center, scaled_data, 'cosine')\n",
    "    index = list(np.argsort(distances)[:, :n_songs][0])\n",
    "    \n",
    "    rec_songs = spotify_data.iloc[index]\n",
    "    rec_songs = rec_songs[~rec_songs['name'].isin(song_dict['name'])]\n",
    "    return rec_songs[metadata_cols].to_dict(orient='records')"
   ]
  },
  {
   "cell_type": "code",
   "execution_count": null,
   "id": "7f8a0bdd",
   "metadata": {},
   "outputs": [],
   "source": [
    "recommend_songs([{'name': 'Come As You Are', 'year':1991},\n",
    "                {'name': 'Smells Like Teen Spirit', 'year': 1991},\n",
    "                {'name': 'LMere Mitwa Mere Meet Re', 'year': 1944},\n",
    "                {'name': 'Yeh Jo Mohabbat Hai', 'year': 1970}],  spotify_data)"
   ]
  },
  {
   "cell_type": "code",
   "execution_count": null,
   "id": "12311e76",
   "metadata": {},
   "outputs": [],
   "source": [
    "recommend_songs([{'name':'Beat It', 'year': 1982},\n",
    "                 {'name': 'Billie Jean', 'year': 1988},\n",
    "                 {'name': 'Thriller', 'year': 1982}], spotify_data)"
   ]
  },
  {
   "cell_type": "code",
   "execution_count": null,
   "id": "178f7f2d",
   "metadata": {},
   "outputs": [],
   "source": []
  }
 ],
 "metadata": {
  "kernelspec": {
   "display_name": "Python 3 (ipykernel)",
   "language": "python",
   "name": "python3"
  },
  "language_info": {
   "codemirror_mode": {
    "name": "ipython",
    "version": 3
   },
   "file_extension": ".py",
   "mimetype": "text/x-python",
   "name": "python",
   "nbconvert_exporter": "python",
   "pygments_lexer": "ipython3",
   "version": "3.9.7"
  }
 },
 "nbformat": 4,
 "nbformat_minor": 5
}
